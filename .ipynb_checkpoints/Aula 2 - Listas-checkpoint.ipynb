{
 "cells": [
  {
   "cell_type": "code",
   "execution_count": 1,
   "id": "645c2b15",
   "metadata": {
    "ExecuteTime": {
     "end_time": "2021-11-02T23:34:23.170671Z",
     "start_time": "2021-11-02T23:34:23.158860Z"
    }
   },
   "outputs": [],
   "source": [
    "altura = [1.57, 1.60, 1.69, 1.70]"
   ]
  },
  {
   "cell_type": "code",
   "execution_count": 2,
   "id": "1c4cfa28",
   "metadata": {
    "ExecuteTime": {
     "end_time": "2021-11-02T23:34:27.521040Z",
     "start_time": "2021-11-02T23:34:27.518122Z"
    }
   },
   "outputs": [
    {
     "name": "stdout",
     "output_type": "stream",
     "text": [
      "[1.57, 1.6, 1.69, 1.7]\n"
     ]
    }
   ],
   "source": [
    "print(altura)"
   ]
  },
  {
   "cell_type": "code",
   "execution_count": 3,
   "id": "68af2285",
   "metadata": {
    "ExecuteTime": {
     "end_time": "2021-11-02T23:34:35.323434Z",
     "start_time": "2021-11-02T23:34:35.314190Z"
    }
   },
   "outputs": [
    {
     "data": {
      "text/plain": [
       "list"
      ]
     },
     "execution_count": 3,
     "metadata": {},
     "output_type": "execute_result"
    }
   ],
   "source": [
    "type(altura)"
   ]
  },
  {
   "cell_type": "code",
   "execution_count": 4,
   "id": "68da3e54",
   "metadata": {
    "ExecuteTime": {
     "end_time": "2021-11-02T23:36:05.058265Z",
     "start_time": "2021-11-02T23:36:05.055691Z"
    }
   },
   "outputs": [],
   "source": [
    "altura_nome = ['Tainã', 1.57, 'Neidinha', 1.60, 'Andrea', 1.69, 'Maybi', 1.70]"
   ]
  },
  {
   "cell_type": "code",
   "execution_count": 5,
   "id": "71f94de2",
   "metadata": {
    "ExecuteTime": {
     "end_time": "2021-11-02T23:36:36.132190Z",
     "start_time": "2021-11-02T23:36:36.127483Z"
    }
   },
   "outputs": [
    {
     "data": {
      "text/plain": [
       "list"
      ]
     },
     "execution_count": 5,
     "metadata": {},
     "output_type": "execute_result"
    }
   ],
   "source": [
    "type(altura_nome)"
   ]
  },
  {
   "cell_type": "code",
   "execution_count": 6,
   "id": "61684c61",
   "metadata": {
    "ExecuteTime": {
     "end_time": "2021-11-02T23:36:56.922173Z",
     "start_time": "2021-11-02T23:36:56.919189Z"
    }
   },
   "outputs": [
    {
     "name": "stdout",
     "output_type": "stream",
     "text": [
      "['Tainã', 1.57, 'Neidinha', 1.6, 'Andrea', 1.69, 'Maybi', 1.7]\n"
     ]
    }
   ],
   "source": [
    "print(altura_nome)"
   ]
  },
  {
   "cell_type": "markdown",
   "id": "e3f20b98",
   "metadata": {},
   "source": [
    "## Lista de listas"
   ]
  },
  {
   "cell_type": "code",
   "execution_count": 7,
   "id": "d0d7d70b",
   "metadata": {
    "ExecuteTime": {
     "end_time": "2021-11-02T23:38:58.004298Z",
     "start_time": "2021-11-02T23:38:58.001639Z"
    }
   },
   "outputs": [],
   "source": [
    "altura_nome2 = [['Tainã', 1.57], \n",
    "                ['Neidinha', 1.60],\n",
    "                ['Andrea', 1.69], \n",
    "                ['Maybi', 1.70]]"
   ]
  },
  {
   "cell_type": "code",
   "execution_count": 8,
   "id": "2f78c5b8",
   "metadata": {
    "ExecuteTime": {
     "end_time": "2021-11-02T23:39:09.141196Z",
     "start_time": "2021-11-02T23:39:09.138393Z"
    }
   },
   "outputs": [
    {
     "name": "stdout",
     "output_type": "stream",
     "text": [
      "[['Tainã', 1.57], ['Neidinha', 1.6], ['Andrea', 1.69], ['Maybi', 1.7]]\n"
     ]
    }
   ],
   "source": [
    "print(altura_nome2)"
   ]
  },
  {
   "cell_type": "code",
   "execution_count": 9,
   "id": "783f7ccc",
   "metadata": {
    "ExecuteTime": {
     "end_time": "2021-11-02T23:39:19.030690Z",
     "start_time": "2021-11-02T23:39:19.027188Z"
    }
   },
   "outputs": [
    {
     "data": {
      "text/plain": [
       "list"
      ]
     },
     "execution_count": 9,
     "metadata": {},
     "output_type": "execute_result"
    }
   ],
   "source": [
    "type(altura_nome2)"
   ]
  },
  {
   "cell_type": "markdown",
   "id": "5c3be0d6",
   "metadata": {},
   "source": [
    "## Transformando lista em data frame"
   ]
  },
  {
   "cell_type": "code",
   "execution_count": 10,
   "id": "1ddb4c40",
   "metadata": {
    "ExecuteTime": {
     "end_time": "2021-11-02T23:42:23.165902Z",
     "start_time": "2021-11-02T23:42:22.178105Z"
    }
   },
   "outputs": [],
   "source": [
    "import pandas as pd\n",
    "\n",
    "df = pd.DataFrame(altura_nome2)"
   ]
  },
  {
   "cell_type": "code",
   "execution_count": 11,
   "id": "b6b0459b",
   "metadata": {
    "ExecuteTime": {
     "end_time": "2021-11-02T23:42:25.373356Z",
     "start_time": "2021-11-02T23:42:25.363488Z"
    }
   },
   "outputs": [
    {
     "data": {
      "text/html": [
       "<div>\n",
       "<style scoped>\n",
       "    .dataframe tbody tr th:only-of-type {\n",
       "        vertical-align: middle;\n",
       "    }\n",
       "\n",
       "    .dataframe tbody tr th {\n",
       "        vertical-align: top;\n",
       "    }\n",
       "\n",
       "    .dataframe thead th {\n",
       "        text-align: right;\n",
       "    }\n",
       "</style>\n",
       "<table border=\"1\" class=\"dataframe\">\n",
       "  <thead>\n",
       "    <tr style=\"text-align: right;\">\n",
       "      <th></th>\n",
       "      <th>0</th>\n",
       "      <th>1</th>\n",
       "    </tr>\n",
       "  </thead>\n",
       "  <tbody>\n",
       "    <tr>\n",
       "      <th>0</th>\n",
       "      <td>Tainã</td>\n",
       "      <td>1.57</td>\n",
       "    </tr>\n",
       "    <tr>\n",
       "      <th>1</th>\n",
       "      <td>Neidinha</td>\n",
       "      <td>1.60</td>\n",
       "    </tr>\n",
       "    <tr>\n",
       "      <th>2</th>\n",
       "      <td>Andrea</td>\n",
       "      <td>1.69</td>\n",
       "    </tr>\n",
       "    <tr>\n",
       "      <th>3</th>\n",
       "      <td>Maybi</td>\n",
       "      <td>1.70</td>\n",
       "    </tr>\n",
       "  </tbody>\n",
       "</table>\n",
       "</div>"
      ],
      "text/plain": [
       "          0     1\n",
       "0     Tainã  1.57\n",
       "1  Neidinha  1.60\n",
       "2    Andrea  1.69\n",
       "3     Maybi  1.70"
      ]
     },
     "execution_count": 11,
     "metadata": {},
     "output_type": "execute_result"
    }
   ],
   "source": [
    "df"
   ]
  },
  {
   "cell_type": "code",
   "execution_count": 12,
   "id": "3b98b579",
   "metadata": {
    "ExecuteTime": {
     "end_time": "2021-11-02T23:43:02.522013Z",
     "start_time": "2021-11-02T23:43:02.519266Z"
    }
   },
   "outputs": [],
   "source": [
    "df.columns = ['nome', 'altura']"
   ]
  },
  {
   "cell_type": "code",
   "execution_count": 13,
   "id": "5d0e921a",
   "metadata": {
    "ExecuteTime": {
     "end_time": "2021-11-02T23:43:05.168194Z",
     "start_time": "2021-11-02T23:43:05.161157Z"
    }
   },
   "outputs": [
    {
     "data": {
      "text/html": [
       "<div>\n",
       "<style scoped>\n",
       "    .dataframe tbody tr th:only-of-type {\n",
       "        vertical-align: middle;\n",
       "    }\n",
       "\n",
       "    .dataframe tbody tr th {\n",
       "        vertical-align: top;\n",
       "    }\n",
       "\n",
       "    .dataframe thead th {\n",
       "        text-align: right;\n",
       "    }\n",
       "</style>\n",
       "<table border=\"1\" class=\"dataframe\">\n",
       "  <thead>\n",
       "    <tr style=\"text-align: right;\">\n",
       "      <th></th>\n",
       "      <th>nome</th>\n",
       "      <th>altura</th>\n",
       "    </tr>\n",
       "  </thead>\n",
       "  <tbody>\n",
       "    <tr>\n",
       "      <th>0</th>\n",
       "      <td>Tainã</td>\n",
       "      <td>1.57</td>\n",
       "    </tr>\n",
       "    <tr>\n",
       "      <th>1</th>\n",
       "      <td>Neidinha</td>\n",
       "      <td>1.60</td>\n",
       "    </tr>\n",
       "    <tr>\n",
       "      <th>2</th>\n",
       "      <td>Andrea</td>\n",
       "      <td>1.69</td>\n",
       "    </tr>\n",
       "    <tr>\n",
       "      <th>3</th>\n",
       "      <td>Maybi</td>\n",
       "      <td>1.70</td>\n",
       "    </tr>\n",
       "  </tbody>\n",
       "</table>\n",
       "</div>"
      ],
      "text/plain": [
       "       nome  altura\n",
       "0     Tainã    1.57\n",
       "1  Neidinha    1.60\n",
       "2    Andrea    1.69\n",
       "3     Maybi    1.70"
      ]
     },
     "execution_count": 13,
     "metadata": {},
     "output_type": "execute_result"
    }
   ],
   "source": [
    "df"
   ]
  },
  {
   "cell_type": "markdown",
   "id": "e823ef54",
   "metadata": {},
   "source": [
    "## Indexação no python"
   ]
  },
  {
   "cell_type": "code",
   "execution_count": 14,
   "id": "520911f6",
   "metadata": {
    "ExecuteTime": {
     "end_time": "2021-11-02T23:45:22.858562Z",
     "start_time": "2021-11-02T23:45:22.854430Z"
    }
   },
   "outputs": [
    {
     "data": {
      "text/plain": [
       "['Neidinha', 1.6]"
      ]
     },
     "execution_count": 14,
     "metadata": {},
     "output_type": "execute_result"
    }
   ],
   "source": [
    "altura_nome2[1]"
   ]
  },
  {
   "cell_type": "code",
   "execution_count": 15,
   "id": "964265e8",
   "metadata": {
    "ExecuteTime": {
     "end_time": "2021-11-02T23:45:40.183375Z",
     "start_time": "2021-11-02T23:45:40.179273Z"
    }
   },
   "outputs": [
    {
     "data": {
      "text/plain": [
       "['Tainã', 1.57]"
      ]
     },
     "execution_count": 15,
     "metadata": {},
     "output_type": "execute_result"
    }
   ],
   "source": [
    "altura_nome2[0]"
   ]
  },
  {
   "cell_type": "code",
   "execution_count": 17,
   "id": "8856a265",
   "metadata": {
    "ExecuteTime": {
     "end_time": "2021-11-02T23:46:31.609780Z",
     "start_time": "2021-11-02T23:46:31.605624Z"
    }
   },
   "outputs": [
    {
     "data": {
      "text/plain": [
       "[['Tainã', 1.57], ['Neidinha', 1.6], ['Andrea', 1.69]]"
      ]
     },
     "execution_count": 17,
     "metadata": {},
     "output_type": "execute_result"
    }
   ],
   "source": [
    "altura_nome2[0:3] # do 0 ao 2, não inclui o 3"
   ]
  },
  {
   "cell_type": "markdown",
   "id": "c6711a86",
   "metadata": {},
   "source": [
    "# Exercícios\n",
    "\n",
    "## Questão 1\n",
    "\n",
    "- Crie as variáveis: quarto, sala, banheiro e cozinha. Preencha com valores de área $(m^2)$.\n",
    "- Agora, crie uma lista chamada `area`, que receba as variáveis criadas anteriorment.\n",
    "- Imprima a lista `area` e seu tipo.\n"
   ]
  },
  {
   "cell_type": "code",
   "execution_count": null,
   "id": "97632d9a",
   "metadata": {},
   "outputs": [],
   "source": []
  },
  {
   "cell_type": "markdown",
   "id": "9bce1b86",
   "metadata": {},
   "source": [
    "## Questão 2\n",
    "\n",
    "- Atualize a lista `area` intercalando os nomes dos ambientes, e as variáveis que representam suas medidas.\n",
    "- Imprima `area` novamente e seu tipo.\n",
    "- Crie uma lista de listas, para cada cômodo da casa."
   ]
  },
  {
   "cell_type": "code",
   "execution_count": null,
   "id": "be4d6b21",
   "metadata": {},
   "outputs": [],
   "source": []
  }
 ],
 "metadata": {
  "kernelspec": {
   "display_name": "Python 3 (ipykernel)",
   "language": "python",
   "name": "python3"
  },
  "language_info": {
   "codemirror_mode": {
    "name": "ipython",
    "version": 3
   },
   "file_extension": ".py",
   "mimetype": "text/x-python",
   "name": "python",
   "nbconvert_exporter": "python",
   "pygments_lexer": "ipython3",
   "version": "3.9.7"
  }
 },
 "nbformat": 4,
 "nbformat_minor": 5
}

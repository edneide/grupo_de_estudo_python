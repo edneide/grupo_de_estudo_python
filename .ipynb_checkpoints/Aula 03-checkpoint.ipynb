{
 "cells": [
  {
   "cell_type": "markdown",
   "id": "283686a5",
   "metadata": {},
   "source": [
    "# 1. Diferentes tipos de problemas de ciências de dados"
   ]
  },
  {
   "cell_type": "markdown",
   "id": "71c6fd1f",
   "metadata": {},
   "source": [
    "## 1.1. Problema de regressão"
   ]
  },
  {
   "cell_type": "markdown",
   "id": "33445c1a",
   "metadata": {},
   "source": [
    "Estamos prevendo uma valor numérico em uma escala contínua. "
   ]
  },
  {
   "cell_type": "markdown",
   "id": "da5b7e59",
   "metadata": {},
   "source": [
    "## 1.2. Problema de classificação"
   ]
  },
  {
   "cell_type": "markdown",
   "id": "e2b7dd37",
   "metadata": {},
   "source": [
    "Previsão qualitativa, por exemplos, respostas sim e não."
   ]
  },
  {
   "cell_type": "markdown",
   "id": "9091d305",
   "metadata": {},
   "source": [
    "## 1.3. Aprendizado Supervisionado"
   ]
  },
  {
   "cell_type": "markdown",
   "id": "3835deef",
   "metadata": {},
   "source": [
    "É um tipo de prblema que  depende de dados rotulados. "
   ]
  },
  {
   "cell_type": "markdown",
   "id": "fe78b5f8",
   "metadata": {},
   "source": [
    "## 1.4. Aprendizado Não Supervisionado"
   ]
  },
  {
   "cell_type": "markdown",
   "id": "055d9166",
   "metadata": {},
   "source": [
    "Tentamos encontrar algum tipo de estrutura em um dataset que nem sempre tem rótulos."
   ]
  },
  {
   "cell_type": "markdown",
   "id": "e19fe906",
   "metadata": {},
   "source": [
    "# 2. Estudo de Caso"
   ]
  },
  {
   "cell_type": "markdown",
   "id": "a8817e4c",
   "metadata": {},
   "source": [
    "Dados disponíveis em: https://github.com/TrainingByPackt/Data-Science-Projects-with-Python/tree/master/Data"
   ]
  },
  {
   "cell_type": "markdown",
   "id": "2d9dcad3",
   "metadata": {},
   "source": [
    "# 3. Carregando os pacotes"
   ]
  },
  {
   "cell_type": "code",
   "execution_count": 1,
   "id": "76c6c41f",
   "metadata": {
    "ExecuteTime": {
     "end_time": "2021-12-04T00:40:16.172012Z",
     "start_time": "2021-12-04T00:40:15.196002Z"
    }
   },
   "outputs": [],
   "source": [
    "import pandas as pd"
   ]
  },
  {
   "cell_type": "markdown",
   "id": "271d4dd7",
   "metadata": {},
   "source": [
    "# 4. Carregando a base de dados"
   ]
  },
  {
   "cell_type": "code",
   "execution_count": 2,
   "id": "a6d3c923",
   "metadata": {
    "ExecuteTime": {
     "end_time": "2021-12-04T00:40:36.596640Z",
     "start_time": "2021-12-04T00:40:35.273086Z"
    }
   },
   "outputs": [],
   "source": [
    "df = pd.read_excel('data/default_of_credit_card_clients__courseware_version_1_21_19.xls')"
   ]
  },
  {
   "cell_type": "markdown",
   "id": "17a250ea",
   "metadata": {},
   "source": [
    "## 4.1. Métodos para usar com uma data frame"
   ]
  },
  {
   "cell_type": "markdown",
   "id": "31273110",
   "metadata": {
    "ExecuteTime": {
     "end_time": "2021-12-04T00:41:38.716798Z",
     "start_time": "2021-12-04T00:41:38.713438Z"
    }
   },
   "source": [
    "- `.shape()`\n",
    "- `.info()`\n",
    "- `.head()`"
   ]
  },
  {
   "cell_type": "code",
   "execution_count": null,
   "id": "928bd9d0",
   "metadata": {},
   "outputs": [],
   "source": []
  },
  {
   "cell_type": "code",
   "execution_count": null,
   "id": "b3449c14",
   "metadata": {},
   "outputs": [],
   "source": []
  },
  {
   "cell_type": "code",
   "execution_count": null,
   "id": "4297c27f",
   "metadata": {},
   "outputs": [],
   "source": []
  },
  {
   "cell_type": "markdown",
   "id": "b50fa06f",
   "metadata": {},
   "source": [
    "O dicionário de dados pode ser encontrado aqui: https://archive.ics.uci.edu/ml/datasets/default+of+credit+card+clients"
   ]
  },
  {
   "cell_type": "markdown",
   "id": "5f9bda28",
   "metadata": {},
   "source": [
    "# 5. O problema da empresa"
   ]
  },
  {
   "cell_type": "markdown",
   "id": "60633d21",
   "metadata": {},
   "source": [
    "- Nosso cliente é uma empresa de cartão de crédito.\n",
    "- A base de dados contém dados demográficos de 30.000 titulares de contas correntes."
   ]
  },
  {
   "cell_type": "markdown",
   "id": "172da626",
   "metadata": {},
   "source": [
    "## 5.1. Objetivo"
   ]
  },
  {
   "cell_type": "markdown",
   "id": "baa94ffb",
   "metadata": {},
   "source": [
    "Desenvolver um modelo que preveja se uma conta ficará inadimplente no próximo mês, de acordo com dados demográficos e históricos."
   ]
  },
  {
   "cell_type": "markdown",
   "id": "6da1f19e",
   "metadata": {},
   "source": [
    "# 6. Etapas da Exploração de dados"
   ]
  },
  {
   "cell_type": "markdown",
   "id": "dcff7d74",
   "metadata": {},
   "source": [
    "## 6.1. Quantas colunas os dados contêm?"
   ]
  },
  {
   "cell_type": "code",
   "execution_count": null,
   "id": "adfb2531",
   "metadata": {},
   "outputs": [],
   "source": []
  },
  {
   "cell_type": "markdown",
   "id": "fccb149e",
   "metadata": {},
   "source": [
    "## 6.2. Quantas linhas os dados contêm?"
   ]
  },
  {
   "cell_type": "code",
   "execution_count": null,
   "id": "d6fe78a1",
   "metadata": {},
   "outputs": [],
   "source": []
  },
  {
   "cell_type": "markdown",
   "id": "29fcfe04",
   "metadata": {},
   "source": [
    "## 6.3. Examine os nomes das colunas usando o método `.columns`."
   ]
  },
  {
   "cell_type": "code",
   "execution_count": null,
   "id": "d5e6584f",
   "metadata": {},
   "outputs": [],
   "source": []
  },
  {
   "cell_type": "markdown",
   "id": "7c34fffc",
   "metadata": {},
   "source": [
    "## 6.4. Selecione  a coluna alvo `ID` e conte os valores exclusivos usando o método `.nunique()`"
   ]
  },
  {
   "cell_type": "code",
   "execution_count": null,
   "id": "f1550ea5",
   "metadata": {},
   "outputs": [],
   "source": []
  },
  {
   "cell_type": "markdown",
   "id": "b77097b0",
   "metadata": {},
   "source": [
    "## 6.5. Há valores de ID duplicados no dataset. Vamos criar uma variável chamada `id_counts()` para contar quandtas vezes cada ID se repete."
   ]
  },
  {
   "cell_type": "code",
   "execution_count": 4,
   "id": "4d1eff0d",
   "metadata": {
    "ExecuteTime": {
     "end_time": "2021-12-04T00:57:24.037309Z",
     "start_time": "2021-12-04T00:57:24.000594Z"
    }
   },
   "outputs": [
    {
     "data": {
      "text/plain": [
       "428b26a3-dca2    2\n",
       "e50d8395-da32    2\n",
       "d5905747-8aef    2\n",
       "df3d13be-9c13    2\n",
       "4e2380e6-a8cf    2\n",
       "Name: ID, dtype: int64"
      ]
     },
     "execution_count": 4,
     "metadata": {},
     "output_type": "execute_result"
    }
   ],
   "source": [
    "id_counts = df['ID'].value_counts()\n",
    "id_counts.head()"
   ]
  },
  {
   "cell_type": "markdown",
   "id": "65bcc1e4",
   "metadata": {},
   "source": [
    "## 6.6. Aplique o método `value_counts()` em `id_counts` para ver o número de entradas duplicadas."
   ]
  },
  {
   "cell_type": "code",
   "execution_count": null,
   "id": "9180caac",
   "metadata": {},
   "outputs": [],
   "source": []
  },
  {
   "cell_type": "markdown",
   "id": "4dc7f55a",
   "metadata": {},
   "source": [
    "# 7. Máscaras booleanas"
   ]
  },
  {
   "cell_type": "code",
   "execution_count": null,
   "id": "5ee4823a",
   "metadata": {},
   "outputs": [],
   "source": []
  }
 ],
 "metadata": {
  "kernelspec": {
   "display_name": "Python 3 (ipykernel)",
   "language": "python",
   "name": "python3"
  },
  "language_info": {
   "codemirror_mode": {
    "name": "ipython",
    "version": 3
   },
   "file_extension": ".py",
   "mimetype": "text/x-python",
   "name": "python",
   "nbconvert_exporter": "python",
   "pygments_lexer": "ipython3",
   "version": "3.8.5"
  }
 },
 "nbformat": 4,
 "nbformat_minor": 5
}

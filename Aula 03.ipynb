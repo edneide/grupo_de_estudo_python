{
 "cells": [
  {
   "cell_type": "markdown",
   "id": "283686a5",
   "metadata": {
    "heading_collapsed": true
   },
   "source": [
    "# 1. Diferentes tipos de problemas de ciências de dados"
   ]
  },
  {
   "cell_type": "markdown",
   "id": "71c6fd1f",
   "metadata": {
    "heading_collapsed": true,
    "hidden": true
   },
   "source": [
    "## 1.1. Problema de regressão"
   ]
  },
  {
   "cell_type": "markdown",
   "id": "33445c1a",
   "metadata": {
    "hidden": true
   },
   "source": [
    "Estamos prevendo uma valor numérico em uma escala contínua. "
   ]
  },
  {
   "cell_type": "markdown",
   "id": "da5b7e59",
   "metadata": {
    "hidden": true
   },
   "source": [
    "## 1.2. Problema de classificação"
   ]
  },
  {
   "cell_type": "markdown",
   "id": "e2b7dd37",
   "metadata": {
    "hidden": true
   },
   "source": [
    "Previsão qualitativa, por exemplos, respostas sim e não."
   ]
  },
  {
   "cell_type": "markdown",
   "id": "9091d305",
   "metadata": {
    "hidden": true
   },
   "source": [
    "## 1.3. Aprendizado Supervisionado"
   ]
  },
  {
   "cell_type": "markdown",
   "id": "3835deef",
   "metadata": {
    "hidden": true
   },
   "source": [
    "É um tipo de prblema que  depende de dados rotulados. "
   ]
  },
  {
   "cell_type": "markdown",
   "id": "fe78b5f8",
   "metadata": {
    "hidden": true
   },
   "source": [
    "## 1.4. Aprendizado Não Supervisionado"
   ]
  },
  {
   "cell_type": "markdown",
   "id": "055d9166",
   "metadata": {
    "hidden": true
   },
   "source": [
    "Tentamos encontrar algum tipo de estrutura em um dataset que nem sempre tem rótulos."
   ]
  },
  {
   "cell_type": "markdown",
   "id": "e19fe906",
   "metadata": {
    "heading_collapsed": true
   },
   "source": [
    "# 2. Estudo de Caso"
   ]
  },
  {
   "cell_type": "markdown",
   "id": "a8817e4c",
   "metadata": {
    "hidden": true
   },
   "source": [
    "Dados disponíveis em: https://github.com/TrainingByPackt/Data-Science-Projects-with-Python/tree/master/Data"
   ]
  },
  {
   "cell_type": "markdown",
   "id": "2d9dcad3",
   "metadata": {
    "heading_collapsed": true
   },
   "source": [
    "# 3. Carregando os pacotes"
   ]
  },
  {
   "cell_type": "code",
   "execution_count": 1,
   "id": "76c6c41f",
   "metadata": {
    "ExecuteTime": {
     "end_time": "2021-12-04T14:08:51.900836Z",
     "start_time": "2021-12-04T14:08:51.321130Z"
    },
    "hidden": true
   },
   "outputs": [],
   "source": [
    "import pandas as pd"
   ]
  },
  {
   "cell_type": "markdown",
   "id": "271d4dd7",
   "metadata": {
    "heading_collapsed": true
   },
   "source": [
    "# 4. Carregando a base de dados"
   ]
  },
  {
   "cell_type": "code",
   "execution_count": 2,
   "id": "a6d3c923",
   "metadata": {
    "ExecuteTime": {
     "end_time": "2021-12-04T14:08:54.787990Z",
     "start_time": "2021-12-04T14:08:53.206907Z"
    },
    "hidden": true
   },
   "outputs": [],
   "source": [
    "df = pd.read_excel('data/default_of_credit_card_clients__courseware_version_1_21_19.xls')"
   ]
  },
  {
   "cell_type": "markdown",
   "id": "17a250ea",
   "metadata": {
    "hidden": true
   },
   "source": [
    "## 4.1. Métodos para usar com uma data frame"
   ]
  },
  {
   "cell_type": "markdown",
   "id": "31273110",
   "metadata": {
    "ExecuteTime": {
     "end_time": "2021-12-04T00:41:38.716798Z",
     "start_time": "2021-12-04T00:41:38.713438Z"
    },
    "hidden": true
   },
   "source": [
    "- `.shape`\n",
    "- `.info()`\n",
    "- `.head()`"
   ]
  },
  {
   "cell_type": "code",
   "execution_count": 4,
   "id": "928bd9d0",
   "metadata": {
    "ExecuteTime": {
     "end_time": "2021-12-04T14:09:02.429794Z",
     "start_time": "2021-12-04T14:09:02.420823Z"
    },
    "hidden": true
   },
   "outputs": [
    {
     "data": {
      "text/plain": [
       "(30000, 25)"
      ]
     },
     "execution_count": 4,
     "metadata": {},
     "output_type": "execute_result"
    }
   ],
   "source": [
    "df.shape # Número de linhas e colunas"
   ]
  },
  {
   "cell_type": "code",
   "execution_count": 5,
   "id": "b3449c14",
   "metadata": {
    "ExecuteTime": {
     "end_time": "2021-12-04T14:09:42.780271Z",
     "start_time": "2021-12-04T14:09:42.763701Z"
    },
    "hidden": true
   },
   "outputs": [
    {
     "name": "stdout",
     "output_type": "stream",
     "text": [
      "<class 'pandas.core.frame.DataFrame'>\n",
      "RangeIndex: 30000 entries, 0 to 29999\n",
      "Data columns (total 25 columns):\n",
      " #   Column                      Non-Null Count  Dtype \n",
      "---  ------                      --------------  ----- \n",
      " 0   ID                          30000 non-null  object\n",
      " 1   LIMIT_BAL                   30000 non-null  int64 \n",
      " 2   SEX                         30000 non-null  int64 \n",
      " 3   EDUCATION                   30000 non-null  int64 \n",
      " 4   MARRIAGE                    30000 non-null  int64 \n",
      " 5   AGE                         30000 non-null  int64 \n",
      " 6   PAY_1                       30000 non-null  object\n",
      " 7   PAY_2                       30000 non-null  int64 \n",
      " 8   PAY_3                       30000 non-null  int64 \n",
      " 9   PAY_4                       30000 non-null  int64 \n",
      " 10  PAY_5                       30000 non-null  int64 \n",
      " 11  PAY_6                       30000 non-null  int64 \n",
      " 12  BILL_AMT1                   30000 non-null  int64 \n",
      " 13  BILL_AMT2                   30000 non-null  int64 \n",
      " 14  BILL_AMT3                   30000 non-null  int64 \n",
      " 15  BILL_AMT4                   30000 non-null  int64 \n",
      " 16  BILL_AMT5                   30000 non-null  int64 \n",
      " 17  BILL_AMT6                   30000 non-null  int64 \n",
      " 18  PAY_AMT1                    30000 non-null  int64 \n",
      " 19  PAY_AMT2                    30000 non-null  int64 \n",
      " 20  PAY_AMT3                    30000 non-null  int64 \n",
      " 21  PAY_AMT4                    30000 non-null  int64 \n",
      " 22  PAY_AMT5                    30000 non-null  int64 \n",
      " 23  PAY_AMT6                    30000 non-null  int64 \n",
      " 24  default payment next month  30000 non-null  int64 \n",
      "dtypes: int64(23), object(2)\n",
      "memory usage: 5.7+ MB\n"
     ]
    }
   ],
   "source": [
    "df.info()"
   ]
  },
  {
   "cell_type": "code",
   "execution_count": 7,
   "id": "4297c27f",
   "metadata": {
    "ExecuteTime": {
     "end_time": "2021-12-04T14:14:34.443943Z",
     "start_time": "2021-12-04T14:14:34.429878Z"
    },
    "hidden": true
   },
   "outputs": [
    {
     "data": {
      "text/html": [
       "<div>\n",
       "<style scoped>\n",
       "    .dataframe tbody tr th:only-of-type {\n",
       "        vertical-align: middle;\n",
       "    }\n",
       "\n",
       "    .dataframe tbody tr th {\n",
       "        vertical-align: top;\n",
       "    }\n",
       "\n",
       "    .dataframe thead th {\n",
       "        text-align: right;\n",
       "    }\n",
       "</style>\n",
       "<table border=\"1\" class=\"dataframe\">\n",
       "  <thead>\n",
       "    <tr style=\"text-align: right;\">\n",
       "      <th></th>\n",
       "      <th>ID</th>\n",
       "      <th>LIMIT_BAL</th>\n",
       "      <th>SEX</th>\n",
       "      <th>EDUCATION</th>\n",
       "      <th>MARRIAGE</th>\n",
       "      <th>AGE</th>\n",
       "      <th>PAY_1</th>\n",
       "      <th>PAY_2</th>\n",
       "      <th>PAY_3</th>\n",
       "      <th>PAY_4</th>\n",
       "      <th>...</th>\n",
       "      <th>BILL_AMT4</th>\n",
       "      <th>BILL_AMT5</th>\n",
       "      <th>BILL_AMT6</th>\n",
       "      <th>PAY_AMT1</th>\n",
       "      <th>PAY_AMT2</th>\n",
       "      <th>PAY_AMT3</th>\n",
       "      <th>PAY_AMT4</th>\n",
       "      <th>PAY_AMT5</th>\n",
       "      <th>PAY_AMT6</th>\n",
       "      <th>default payment next month</th>\n",
       "    </tr>\n",
       "  </thead>\n",
       "  <tbody>\n",
       "    <tr>\n",
       "      <th>0</th>\n",
       "      <td>798fc410-45c1</td>\n",
       "      <td>20000</td>\n",
       "      <td>2</td>\n",
       "      <td>2</td>\n",
       "      <td>1</td>\n",
       "      <td>24</td>\n",
       "      <td>2</td>\n",
       "      <td>2</td>\n",
       "      <td>-1</td>\n",
       "      <td>-1</td>\n",
       "      <td>...</td>\n",
       "      <td>0</td>\n",
       "      <td>0</td>\n",
       "      <td>0</td>\n",
       "      <td>0</td>\n",
       "      <td>689</td>\n",
       "      <td>0</td>\n",
       "      <td>0</td>\n",
       "      <td>0</td>\n",
       "      <td>0</td>\n",
       "      <td>1</td>\n",
       "    </tr>\n",
       "    <tr>\n",
       "      <th>1</th>\n",
       "      <td>8a8c8f3b-8eb4</td>\n",
       "      <td>120000</td>\n",
       "      <td>2</td>\n",
       "      <td>2</td>\n",
       "      <td>2</td>\n",
       "      <td>26</td>\n",
       "      <td>-1</td>\n",
       "      <td>2</td>\n",
       "      <td>0</td>\n",
       "      <td>0</td>\n",
       "      <td>...</td>\n",
       "      <td>3272</td>\n",
       "      <td>3455</td>\n",
       "      <td>3261</td>\n",
       "      <td>0</td>\n",
       "      <td>1000</td>\n",
       "      <td>1000</td>\n",
       "      <td>1000</td>\n",
       "      <td>0</td>\n",
       "      <td>2000</td>\n",
       "      <td>1</td>\n",
       "    </tr>\n",
       "    <tr>\n",
       "      <th>2</th>\n",
       "      <td>85698822-43f5</td>\n",
       "      <td>90000</td>\n",
       "      <td>2</td>\n",
       "      <td>2</td>\n",
       "      <td>2</td>\n",
       "      <td>34</td>\n",
       "      <td>0</td>\n",
       "      <td>0</td>\n",
       "      <td>0</td>\n",
       "      <td>0</td>\n",
       "      <td>...</td>\n",
       "      <td>14331</td>\n",
       "      <td>14948</td>\n",
       "      <td>15549</td>\n",
       "      <td>1518</td>\n",
       "      <td>1500</td>\n",
       "      <td>1000</td>\n",
       "      <td>1000</td>\n",
       "      <td>1000</td>\n",
       "      <td>5000</td>\n",
       "      <td>0</td>\n",
       "    </tr>\n",
       "    <tr>\n",
       "      <th>3</th>\n",
       "      <td>0737c11b-be42</td>\n",
       "      <td>50000</td>\n",
       "      <td>2</td>\n",
       "      <td>2</td>\n",
       "      <td>1</td>\n",
       "      <td>37</td>\n",
       "      <td>0</td>\n",
       "      <td>0</td>\n",
       "      <td>0</td>\n",
       "      <td>0</td>\n",
       "      <td>...</td>\n",
       "      <td>28314</td>\n",
       "      <td>28959</td>\n",
       "      <td>29547</td>\n",
       "      <td>2000</td>\n",
       "      <td>2019</td>\n",
       "      <td>1200</td>\n",
       "      <td>1100</td>\n",
       "      <td>1069</td>\n",
       "      <td>1000</td>\n",
       "      <td>0</td>\n",
       "    </tr>\n",
       "    <tr>\n",
       "      <th>4</th>\n",
       "      <td>3b7f77cc-dbc0</td>\n",
       "      <td>50000</td>\n",
       "      <td>1</td>\n",
       "      <td>2</td>\n",
       "      <td>1</td>\n",
       "      <td>57</td>\n",
       "      <td>-1</td>\n",
       "      <td>0</td>\n",
       "      <td>-1</td>\n",
       "      <td>0</td>\n",
       "      <td>...</td>\n",
       "      <td>20940</td>\n",
       "      <td>19146</td>\n",
       "      <td>19131</td>\n",
       "      <td>2000</td>\n",
       "      <td>36681</td>\n",
       "      <td>10000</td>\n",
       "      <td>9000</td>\n",
       "      <td>689</td>\n",
       "      <td>679</td>\n",
       "      <td>0</td>\n",
       "    </tr>\n",
       "  </tbody>\n",
       "</table>\n",
       "<p>5 rows × 25 columns</p>\n",
       "</div>"
      ],
      "text/plain": [
       "              ID  LIMIT_BAL  SEX  EDUCATION  MARRIAGE  AGE PAY_1  PAY_2  \\\n",
       "0  798fc410-45c1      20000    2          2         1   24     2      2   \n",
       "1  8a8c8f3b-8eb4     120000    2          2         2   26    -1      2   \n",
       "2  85698822-43f5      90000    2          2         2   34     0      0   \n",
       "3  0737c11b-be42      50000    2          2         1   37     0      0   \n",
       "4  3b7f77cc-dbc0      50000    1          2         1   57    -1      0   \n",
       "\n",
       "   PAY_3  PAY_4  ...  BILL_AMT4  BILL_AMT5  BILL_AMT6  PAY_AMT1  PAY_AMT2  \\\n",
       "0     -1     -1  ...          0          0          0         0       689   \n",
       "1      0      0  ...       3272       3455       3261         0      1000   \n",
       "2      0      0  ...      14331      14948      15549      1518      1500   \n",
       "3      0      0  ...      28314      28959      29547      2000      2019   \n",
       "4     -1      0  ...      20940      19146      19131      2000     36681   \n",
       "\n",
       "   PAY_AMT3  PAY_AMT4  PAY_AMT5  PAY_AMT6  default payment next month  \n",
       "0         0         0         0         0                           1  \n",
       "1      1000      1000         0      2000                           1  \n",
       "2      1000      1000      1000      5000                           0  \n",
       "3      1200      1100      1069      1000                           0  \n",
       "4     10000      9000       689       679                           0  \n",
       "\n",
       "[5 rows x 25 columns]"
      ]
     },
     "execution_count": 7,
     "metadata": {},
     "output_type": "execute_result"
    }
   ],
   "source": [
    "df.head()"
   ]
  },
  {
   "cell_type": "markdown",
   "id": "b50fa06f",
   "metadata": {
    "hidden": true
   },
   "source": [
    "O dicionário de dados pode ser encontrado aqui: https://archive.ics.uci.edu/ml/datasets/default+of+credit+card+clients"
   ]
  },
  {
   "cell_type": "markdown",
   "id": "5f9bda28",
   "metadata": {
    "heading_collapsed": true
   },
   "source": [
    "# 5. O problema da empresa"
   ]
  },
  {
   "cell_type": "markdown",
   "id": "60633d21",
   "metadata": {
    "hidden": true
   },
   "source": [
    "- Nosso cliente é uma empresa de cartão de crédito.\n",
    "- A base de dados contém dados demográficos de 30.000 titulares de contas correntes."
   ]
  },
  {
   "cell_type": "markdown",
   "id": "172da626",
   "metadata": {
    "hidden": true
   },
   "source": [
    "## 5.1. Objetivo"
   ]
  },
  {
   "cell_type": "markdown",
   "id": "baa94ffb",
   "metadata": {
    "hidden": true
   },
   "source": [
    "Desenvolver um modelo que preveja se uma conta ficará inadimplente no próximo mês, de acordo com dados demográficos e históricos."
   ]
  },
  {
   "cell_type": "markdown",
   "id": "6da1f19e",
   "metadata": {
    "heading_collapsed": true
   },
   "source": [
    "# 6. Etapas da Exploração de dados"
   ]
  },
  {
   "cell_type": "markdown",
   "id": "dcff7d74",
   "metadata": {
    "hidden": true
   },
   "source": [
    "## 6.1. Quantas colunas os dados contêm?"
   ]
  },
  {
   "cell_type": "markdown",
   "id": "c0a166c1",
   "metadata": {
    "hidden": true
   },
   "source": [
    "- Temos 25 colunas ou variáveis (features)."
   ]
  },
  {
   "cell_type": "markdown",
   "id": "fccb149e",
   "metadata": {
    "hidden": true
   },
   "source": [
    "## 6.2. Quantas linhas os dados contêm?"
   ]
  },
  {
   "cell_type": "markdown",
   "id": "597139ab",
   "metadata": {
    "hidden": true
   },
   "source": [
    "- Temos 30.000 observações (ou linhas)."
   ]
  },
  {
   "cell_type": "markdown",
   "id": "29fcfe04",
   "metadata": {
    "hidden": true
   },
   "source": [
    "## 6.3. Examine os nomes das colunas usando o método `.columns`."
   ]
  },
  {
   "cell_type": "code",
   "execution_count": 10,
   "id": "d5e6584f",
   "metadata": {
    "ExecuteTime": {
     "end_time": "2021-12-04T14:34:56.556307Z",
     "start_time": "2021-12-04T14:34:56.553045Z"
    },
    "hidden": true
   },
   "outputs": [
    {
     "data": {
      "text/plain": [
       "['ID',\n",
       " 'LIMIT_BAL',\n",
       " 'SEX',\n",
       " 'EDUCATION',\n",
       " 'MARRIAGE',\n",
       " 'AGE',\n",
       " 'PAY_1',\n",
       " 'PAY_2',\n",
       " 'PAY_3',\n",
       " 'PAY_4',\n",
       " 'PAY_5',\n",
       " 'PAY_6',\n",
       " 'BILL_AMT1',\n",
       " 'BILL_AMT2',\n",
       " 'BILL_AMT3',\n",
       " 'BILL_AMT4',\n",
       " 'BILL_AMT5',\n",
       " 'BILL_AMT6',\n",
       " 'PAY_AMT1',\n",
       " 'PAY_AMT2',\n",
       " 'PAY_AMT3',\n",
       " 'PAY_AMT4',\n",
       " 'PAY_AMT5',\n",
       " 'PAY_AMT6',\n",
       " 'default payment next month']"
      ]
     },
     "execution_count": 10,
     "metadata": {},
     "output_type": "execute_result"
    }
   ],
   "source": [
    "df.columns.to_list()"
   ]
  },
  {
   "cell_type": "markdown",
   "id": "7c34fffc",
   "metadata": {
    "hidden": true
   },
   "source": [
    "## 6.4. Selecione  a coluna alvo `ID` e conte os valores exclusivos usando o método `.nunique()`"
   ]
  },
  {
   "cell_type": "code",
   "execution_count": 12,
   "id": "f1550ea5",
   "metadata": {
    "ExecuteTime": {
     "end_time": "2021-12-04T14:37:51.573738Z",
     "start_time": "2021-12-04T14:37:51.562746Z"
    },
    "hidden": true
   },
   "outputs": [
    {
     "data": {
      "text/plain": [
       "29687"
      ]
     },
     "execution_count": 12,
     "metadata": {},
     "output_type": "execute_result"
    }
   ],
   "source": [
    "df['ID'].nunique()"
   ]
  },
  {
   "cell_type": "markdown",
   "id": "8f7df263",
   "metadata": {
    "hidden": true
   },
   "source": [
    "- Temos 29.687 IDs únicos, e 313 IDs que estão repetidos. "
   ]
  },
  {
   "cell_type": "markdown",
   "id": "b77097b0",
   "metadata": {
    "hidden": true
   },
   "source": [
    "## 6.5. Há valores de ID duplicados no dataset. Vamos criar uma variável chamada `id_counts()` para contar quandtas vezes cada ID se repete."
   ]
  },
  {
   "cell_type": "code",
   "execution_count": 16,
   "id": "4d1eff0d",
   "metadata": {
    "ExecuteTime": {
     "end_time": "2021-12-04T14:43:34.567449Z",
     "start_time": "2021-12-04T14:43:34.550201Z"
    },
    "hidden": true
   },
   "outputs": [
    {
     "data": {
      "text/plain": [
       "61ae560c-4479    2\n",
       "8567249b-827e    2\n",
       "80282ca6-96a6    2\n",
       "c361e43d-f1f4    2\n",
       "c89b26ff-ec7f    2\n",
       "Name: ID, dtype: int64"
      ]
     },
     "execution_count": 16,
     "metadata": {},
     "output_type": "execute_result"
    }
   ],
   "source": [
    "id_counts = df['ID'].value_counts()\n",
    "id_counts.head()"
   ]
  },
  {
   "cell_type": "code",
   "execution_count": 17,
   "id": "26e54e75",
   "metadata": {
    "ExecuteTime": {
     "end_time": "2021-12-04T14:43:37.260987Z",
     "start_time": "2021-12-04T14:43:37.253232Z"
    },
    "hidden": true
   },
   "outputs": [
    {
     "data": {
      "text/plain": [
       "61ae560c-4479    2\n",
       "8567249b-827e    2\n",
       "80282ca6-96a6    2\n",
       "c361e43d-f1f4    2\n",
       "c89b26ff-ec7f    2\n",
       "                ..\n",
       "321fed0c-6daf    1\n",
       "4a5f27eb-1573    1\n",
       "be457255-4bf0    1\n",
       "df936bb5-5b3d    1\n",
       "c7bc6f96-9fba    1\n",
       "Name: ID, Length: 29687, dtype: int64"
      ]
     },
     "execution_count": 17,
     "metadata": {},
     "output_type": "execute_result"
    }
   ],
   "source": [
    "id_counts"
   ]
  },
  {
   "cell_type": "markdown",
   "id": "65bcc1e4",
   "metadata": {
    "hidden": true
   },
   "source": [
    "## 6.6. Aplique o método `value_counts()` em `id_counts` para ver o número de entradas duplicadas."
   ]
  },
  {
   "cell_type": "code",
   "execution_count": 18,
   "id": "9180caac",
   "metadata": {
    "ExecuteTime": {
     "end_time": "2021-12-04T14:44:59.988311Z",
     "start_time": "2021-12-04T14:44:59.982159Z"
    },
    "hidden": true
   },
   "outputs": [
    {
     "data": {
      "text/plain": [
       "1    29374\n",
       "2      313\n",
       "Name: ID, dtype: int64"
      ]
     },
     "execution_count": 18,
     "metadata": {},
     "output_type": "execute_result"
    }
   ],
   "source": [
    "id_counts.value_counts()"
   ]
  },
  {
   "cell_type": "markdown",
   "id": "4dc7f55a",
   "metadata": {},
   "source": [
    "# 7. Máscaras booleanas"
   ]
  },
  {
   "cell_type": "code",
   "execution_count": 19,
   "id": "5ee4823a",
   "metadata": {
    "ExecuteTime": {
     "end_time": "2021-12-04T14:48:48.190691Z",
     "start_time": "2021-12-04T14:48:48.187558Z"
    }
   },
   "outputs": [
    {
     "data": {
      "text/plain": [
       "pandas.core.series.Series"
      ]
     },
     "execution_count": 19,
     "metadata": {},
     "output_type": "execute_result"
    }
   ],
   "source": [
    "type(df['ID'])"
   ]
  },
  {
   "cell_type": "markdown",
   "id": "87365f60",
   "metadata": {},
   "source": [
    "- Exemplo de uso de máscara booleana:"
   ]
  },
  {
   "cell_type": "code",
   "execution_count": 20,
   "id": "d3855469",
   "metadata": {
    "ExecuteTime": {
     "end_time": "2021-12-04T14:50:53.560075Z",
     "start_time": "2021-12-04T14:50:53.521396Z"
    }
   },
   "outputs": [
    {
     "data": {
      "text/plain": [
       "0        False\n",
       "1        False\n",
       "2         True\n",
       "3         True\n",
       "4         True\n",
       "         ...  \n",
       "29995     True\n",
       "29996     True\n",
       "29997     True\n",
       "29998     True\n",
       "29999     True\n",
       "Name: AGE, Length: 30000, dtype: bool"
      ]
     },
     "execution_count": 20,
     "metadata": {},
     "output_type": "execute_result"
    }
   ],
   "source": [
    "df['AGE'] >= 30"
   ]
  },
  {
   "cell_type": "markdown",
   "id": "09215e30",
   "metadata": {},
   "source": [
    "## Exemplos:"
   ]
  },
  {
   "cell_type": "code",
   "execution_count": 21,
   "id": "6e37dd2f",
   "metadata": {
    "ExecuteTime": {
     "end_time": "2021-12-04T14:52:44.288567Z",
     "start_time": "2021-12-04T14:52:44.286695Z"
    }
   },
   "outputs": [],
   "source": [
    "import numpy as np"
   ]
  },
  {
   "cell_type": "code",
   "execution_count": 22,
   "id": "19c4c6b7",
   "metadata": {
    "ExecuteTime": {
     "end_time": "2021-12-04T14:53:56.641173Z",
     "start_time": "2021-12-04T14:53:56.634640Z"
    }
   },
   "outputs": [],
   "source": [
    "np.random.seed(seed=24)"
   ]
  },
  {
   "cell_type": "code",
   "execution_count": 23,
   "id": "cf84abd3",
   "metadata": {
    "ExecuteTime": {
     "end_time": "2021-12-04T14:54:53.609236Z",
     "start_time": "2021-12-04T14:54:53.604413Z"
    }
   },
   "outputs": [],
   "source": [
    "random_integers = np.random.randint(low=1, high=5, size=100)"
   ]
  },
  {
   "cell_type": "code",
   "execution_count": 26,
   "id": "5dabc12a",
   "metadata": {
    "ExecuteTime": {
     "end_time": "2021-12-04T14:56:11.614390Z",
     "start_time": "2021-12-04T14:56:11.611250Z"
    }
   },
   "outputs": [
    {
     "data": {
      "text/plain": [
       "array([3, 4, 1, 4, 2])"
      ]
     },
     "execution_count": 26,
     "metadata": {},
     "output_type": "execute_result"
    }
   ],
   "source": [
    "random_integers[:5] # cinco primeiras observações"
   ]
  },
  {
   "cell_type": "code",
   "execution_count": 27,
   "id": "c63f7120",
   "metadata": {
    "ExecuteTime": {
     "end_time": "2021-12-04T14:56:22.043890Z",
     "start_time": "2021-12-04T14:56:22.040027Z"
    }
   },
   "outputs": [
    {
     "data": {
      "text/plain": [
       "array([3, 4, 1, 4, 2, 2, 2, 1, 4, 4, 1, 4, 4, 3, 4, 4, 4, 4, 4, 4, 2, 3,\n",
       "       4, 4, 2, 4, 2, 4, 1, 1, 3, 1, 4, 2, 2, 1, 4, 3, 2, 2, 3, 3, 2, 3,\n",
       "       4, 2, 3, 4, 1, 3, 4, 2, 2, 4, 1, 2, 3, 3, 2, 1, 2, 4, 2, 1, 4, 3,\n",
       "       1, 2, 1, 3, 4, 2, 3, 4, 1, 3, 2, 1, 1, 3, 3, 4, 3, 2, 4, 1, 4, 4,\n",
       "       4, 4, 1, 4, 3, 2, 4, 4, 3, 3, 2, 4])"
      ]
     },
     "execution_count": 27,
     "metadata": {},
     "output_type": "execute_result"
    }
   ],
   "source": [
    "random_integers"
   ]
  },
  {
   "cell_type": "code",
   "execution_count": 28,
   "id": "16823b6b",
   "metadata": {
    "ExecuteTime": {
     "end_time": "2021-12-04T14:56:55.488666Z",
     "start_time": "2021-12-04T14:56:55.485441Z"
    }
   },
   "outputs": [
    {
     "data": {
      "text/plain": [
       "array([ True, False, False, False, False, False, False, False, False,\n",
       "       False, False, False, False,  True, False, False, False, False,\n",
       "       False, False, False,  True, False, False, False, False, False,\n",
       "       False, False, False,  True, False, False, False, False, False,\n",
       "       False,  True, False, False,  True,  True, False,  True, False,\n",
       "       False,  True, False, False,  True, False, False, False, False,\n",
       "       False, False,  True,  True, False, False, False, False, False,\n",
       "       False, False,  True, False, False, False,  True, False, False,\n",
       "        True, False, False,  True, False, False, False,  True,  True,\n",
       "       False,  True, False, False, False, False, False, False, False,\n",
       "       False, False,  True, False, False, False,  True,  True, False,\n",
       "       False])"
      ]
     },
     "execution_count": 28,
     "metadata": {},
     "output_type": "execute_result"
    }
   ],
   "source": [
    "random_integers == 3"
   ]
  },
  {
   "cell_type": "code",
   "execution_count": 29,
   "id": "1fbce07f",
   "metadata": {
    "ExecuteTime": {
     "end_time": "2021-12-04T14:57:57.002324Z",
     "start_time": "2021-12-04T14:57:57.000319Z"
    }
   },
   "outputs": [],
   "source": [
    "is_equal_to_3 = random_integers == 3"
   ]
  },
  {
   "cell_type": "code",
   "execution_count": 30,
   "id": "c4b29a65",
   "metadata": {
    "ExecuteTime": {
     "end_time": "2021-12-04T14:58:44.443516Z",
     "start_time": "2021-12-04T14:58:44.440182Z"
    }
   },
   "outputs": [
    {
     "data": {
      "text/plain": [
       "array([3, 3, 3, 3, 3, 3, 3, 3, 3, 3, 3, 3, 3, 3, 3, 3, 3, 3, 3, 3, 3, 3])"
      ]
     },
     "execution_count": 30,
     "metadata": {},
     "output_type": "execute_result"
    }
   ],
   "source": [
    "random_integers[is_equal_to_3]"
   ]
  },
  {
   "cell_type": "code",
   "execution_count": null,
   "id": "f1edbcc2",
   "metadata": {},
   "outputs": [],
   "source": []
  }
 ],
 "metadata": {
  "kernelspec": {
   "display_name": "Python 3 (ipykernel)",
   "language": "python",
   "name": "python3"
  },
  "language_info": {
   "codemirror_mode": {
    "name": "ipython",
    "version": 3
   },
   "file_extension": ".py",
   "mimetype": "text/x-python",
   "name": "python",
   "nbconvert_exporter": "python",
   "pygments_lexer": "ipython3",
   "version": "3.8.5"
  }
 },
 "nbformat": 4,
 "nbformat_minor": 5
}

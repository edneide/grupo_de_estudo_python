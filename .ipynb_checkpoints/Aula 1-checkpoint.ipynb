{
 "cells": [
  {
   "cell_type": "markdown",
   "id": "7b92654a",
   "metadata": {},
   "source": [
    "# 0. Hello world"
   ]
  },
  {
   "cell_type": "code",
   "execution_count": 1,
   "id": "1b6c0010",
   "metadata": {
    "ExecuteTime": {
     "end_time": "2021-10-27T00:19:28.602308Z",
     "start_time": "2021-10-27T00:19:28.592945Z"
    }
   },
   "outputs": [
    {
     "name": "stdout",
     "output_type": "stream",
     "text": [
      "Hello world!\n"
     ]
    }
   ],
   "source": [
    "print(\"Hello world!\")"
   ]
  },
  {
   "cell_type": "code",
   "execution_count": null,
   "id": "8667e2cb",
   "metadata": {},
   "outputs": [],
   "source": [
    "# Comentários "
   ]
  },
  {
   "cell_type": "markdown",
   "id": "99ff366c",
   "metadata": {},
   "source": [
    "# 1. Variáveis"
   ]
  },
  {
   "cell_type": "code",
   "execution_count": 10,
   "id": "93da1868",
   "metadata": {
    "ExecuteTime": {
     "end_time": "2021-10-27T00:33:22.380172Z",
     "start_time": "2021-10-27T00:33:22.377934Z"
    }
   },
   "outputs": [],
   "source": [
    "altura = 1.60\n",
    "peso = 78"
   ]
  },
  {
   "cell_type": "code",
   "execution_count": 11,
   "id": "b23f557e",
   "metadata": {
    "ExecuteTime": {
     "end_time": "2021-10-27T00:33:23.406973Z",
     "start_time": "2021-10-27T00:33:23.404100Z"
    }
   },
   "outputs": [
    {
     "data": {
      "text/plain": [
       "1.6"
      ]
     },
     "execution_count": 11,
     "metadata": {},
     "output_type": "execute_result"
    }
   ],
   "source": [
    "altura"
   ]
  },
  {
   "cell_type": "code",
   "execution_count": 12,
   "id": "22c6b79f",
   "metadata": {
    "ExecuteTime": {
     "end_time": "2021-10-27T00:33:23.865752Z",
     "start_time": "2021-10-27T00:33:23.862638Z"
    }
   },
   "outputs": [
    {
     "data": {
      "text/plain": [
       "78"
      ]
     },
     "execution_count": 12,
     "metadata": {},
     "output_type": "execute_result"
    }
   ],
   "source": [
    "peso"
   ]
  },
  {
   "cell_type": "code",
   "execution_count": 7,
   "id": "1d4717cd",
   "metadata": {
    "ExecuteTime": {
     "end_time": "2021-10-27T00:25:05.421384Z",
     "start_time": "2021-10-27T00:25:05.418705Z"
    }
   },
   "outputs": [
    {
     "name": "stdout",
     "output_type": "stream",
     "text": [
      "1.6\n"
     ]
    }
   ],
   "source": [
    "print(altura)"
   ]
  },
  {
   "cell_type": "code",
   "execution_count": 8,
   "id": "dac15b37",
   "metadata": {
    "ExecuteTime": {
     "end_time": "2021-10-27T00:25:08.663989Z",
     "start_time": "2021-10-27T00:25:08.659883Z"
    }
   },
   "outputs": [
    {
     "name": "stdout",
     "output_type": "stream",
     "text": [
      "78\n"
     ]
    }
   ],
   "source": [
    "print(peso)"
   ]
  },
  {
   "cell_type": "code",
   "execution_count": 17,
   "id": "3360ac7f",
   "metadata": {
    "ExecuteTime": {
     "end_time": "2021-10-27T00:36:12.900974Z",
     "start_time": "2021-10-27T00:36:12.898634Z"
    }
   },
   "outputs": [],
   "source": [
    "imc = round(peso/altura**2, 2)"
   ]
  },
  {
   "cell_type": "code",
   "execution_count": 18,
   "id": "513c0d2d",
   "metadata": {
    "ExecuteTime": {
     "end_time": "2021-10-27T00:36:13.397196Z",
     "start_time": "2021-10-27T00:36:13.393829Z"
    }
   },
   "outputs": [
    {
     "data": {
      "text/plain": [
       "30.47"
      ]
     },
     "execution_count": 18,
     "metadata": {},
     "output_type": "execute_result"
    }
   ],
   "source": [
    "imc"
   ]
  },
  {
   "cell_type": "markdown",
   "id": "59128130",
   "metadata": {},
   "source": [
    "# 2. Tipos de variáveis"
   ]
  },
  {
   "cell_type": "code",
   "execution_count": 48,
   "id": "d2cdc7df",
   "metadata": {
    "ExecuteTime": {
     "end_time": "2021-10-27T01:01:56.342224Z",
     "start_time": "2021-10-27T01:01:56.339181Z"
    }
   },
   "outputs": [
    {
     "data": {
      "text/plain": [
       "float"
      ]
     },
     "execution_count": 48,
     "metadata": {},
     "output_type": "execute_result"
    }
   ],
   "source": [
    "type(imc)"
   ]
  },
  {
   "cell_type": "code",
   "execution_count": 35,
   "id": "653bf6b8",
   "metadata": {
    "ExecuteTime": {
     "end_time": "2021-10-27T00:58:00.325450Z",
     "start_time": "2021-10-27T00:58:00.323247Z"
    }
   },
   "outputs": [],
   "source": [
    "numero_de_filhos = 5\n",
    "dia_da_semana = 7"
   ]
  },
  {
   "cell_type": "code",
   "execution_count": 46,
   "id": "2f80e31e",
   "metadata": {
    "ExecuteTime": {
     "end_time": "2021-10-27T01:01:25.002171Z",
     "start_time": "2021-10-27T01:01:24.989127Z"
    }
   },
   "outputs": [
    {
     "data": {
      "text/plain": [
       "int"
      ]
     },
     "execution_count": 46,
     "metadata": {},
     "output_type": "execute_result"
    }
   ],
   "source": [
    "type(numero_de_filhos)"
   ]
  },
  {
   "cell_type": "code",
   "execution_count": 47,
   "id": "b1f41bb8",
   "metadata": {
    "ExecuteTime": {
     "end_time": "2021-10-27T01:01:30.063203Z",
     "start_time": "2021-10-27T01:01:30.059542Z"
    }
   },
   "outputs": [
    {
     "data": {
      "text/plain": [
       "int"
      ]
     },
     "execution_count": 47,
     "metadata": {},
     "output_type": "execute_result"
    }
   ],
   "source": [
    "type(dia_da_semana)"
   ]
  },
  {
   "cell_type": "code",
   "execution_count": 22,
   "id": "636c1414",
   "metadata": {
    "ExecuteTime": {
     "end_time": "2021-10-27T00:49:03.326682Z",
     "start_time": "2021-10-27T00:49:03.324391Z"
    }
   },
   "outputs": [],
   "source": [
    "nome = \"Neidinha\""
   ]
  },
  {
   "cell_type": "code",
   "execution_count": 23,
   "id": "fae1617d",
   "metadata": {
    "ExecuteTime": {
     "end_time": "2021-10-27T00:49:14.373161Z",
     "start_time": "2021-10-27T00:49:14.371276Z"
    }
   },
   "outputs": [],
   "source": [
    "cidade = 'Paulista'"
   ]
  },
  {
   "cell_type": "code",
   "execution_count": 24,
   "id": "cda6c970",
   "metadata": {
    "ExecuteTime": {
     "end_time": "2021-10-27T00:49:19.425739Z",
     "start_time": "2021-10-27T00:49:19.422618Z"
    }
   },
   "outputs": [
    {
     "data": {
      "text/plain": [
       "str"
      ]
     },
     "execution_count": 24,
     "metadata": {},
     "output_type": "execute_result"
    }
   ],
   "source": [
    "type(nome)"
   ]
  },
  {
   "cell_type": "code",
   "execution_count": 25,
   "id": "edd78550",
   "metadata": {
    "ExecuteTime": {
     "end_time": "2021-10-27T00:49:25.580144Z",
     "start_time": "2021-10-27T00:49:25.576672Z"
    }
   },
   "outputs": [
    {
     "data": {
      "text/plain": [
       "str"
      ]
     },
     "execution_count": 25,
     "metadata": {},
     "output_type": "execute_result"
    }
   ],
   "source": [
    "type(cidade)"
   ]
  },
  {
   "cell_type": "code",
   "execution_count": 26,
   "id": "8d39f8aa",
   "metadata": {
    "ExecuteTime": {
     "end_time": "2021-10-27T00:51:19.365478Z",
     "start_time": "2021-10-27T00:51:19.363349Z"
    }
   },
   "outputs": [],
   "source": [
    "z = True"
   ]
  },
  {
   "cell_type": "code",
   "execution_count": 27,
   "id": "222f4481",
   "metadata": {
    "ExecuteTime": {
     "end_time": "2021-10-27T00:51:26.363750Z",
     "start_time": "2021-10-27T00:51:26.360031Z"
    }
   },
   "outputs": [
    {
     "data": {
      "text/plain": [
       "bool"
      ]
     },
     "execution_count": 27,
     "metadata": {},
     "output_type": "execute_result"
    }
   ],
   "source": [
    "type(z)"
   ]
  },
  {
   "cell_type": "code",
   "execution_count": 28,
   "id": "8cd6c3f0",
   "metadata": {
    "ExecuteTime": {
     "end_time": "2021-10-27T00:54:25.040241Z",
     "start_time": "2021-10-27T00:54:25.037163Z"
    }
   },
   "outputs": [
    {
     "data": {
      "text/plain": [
       "bool"
      ]
     },
     "execution_count": 28,
     "metadata": {},
     "output_type": "execute_result"
    }
   ],
   "source": [
    "w = False\n",
    "type(w)"
   ]
  },
  {
   "cell_type": "markdown",
   "id": "8806802d",
   "metadata": {},
   "source": [
    "# 3. Juntando variáveis "
   ]
  },
  {
   "cell_type": "code",
   "execution_count": 29,
   "id": "4ed9e455",
   "metadata": {
    "ExecuteTime": {
     "end_time": "2021-10-27T00:56:50.035847Z",
     "start_time": "2021-10-27T00:56:50.032349Z"
    }
   },
   "outputs": [
    {
     "data": {
      "text/plain": [
       "108.47"
      ]
     },
     "execution_count": 29,
     "metadata": {},
     "output_type": "execute_result"
    }
   ],
   "source": [
    "imc + peso"
   ]
  },
  {
   "cell_type": "code",
   "execution_count": 33,
   "id": "466bb8e0",
   "metadata": {
    "ExecuteTime": {
     "end_time": "2021-10-27T00:57:25.348736Z",
     "start_time": "2021-10-27T00:57:25.345706Z"
    }
   },
   "outputs": [
    {
     "data": {
      "text/plain": [
       "35.47"
      ]
     },
     "execution_count": 33,
     "metadata": {},
     "output_type": "execute_result"
    }
   ],
   "source": [
    "soma2 = imc + numero_de_filhos\n",
    "soma2"
   ]
  },
  {
   "cell_type": "code",
   "execution_count": 34,
   "id": "74d4352e",
   "metadata": {
    "ExecuteTime": {
     "end_time": "2021-10-27T00:57:30.209936Z",
     "start_time": "2021-10-27T00:57:30.206956Z"
    }
   },
   "outputs": [
    {
     "data": {
      "text/plain": [
       "float"
      ]
     },
     "execution_count": 34,
     "metadata": {},
     "output_type": "execute_result"
    }
   ],
   "source": [
    "type(soma2)"
   ]
  },
  {
   "cell_type": "code",
   "execution_count": 39,
   "id": "322a6e06",
   "metadata": {
    "ExecuteTime": {
     "end_time": "2021-10-27T00:58:36.360737Z",
     "start_time": "2021-10-27T00:58:36.357921Z"
    }
   },
   "outputs": [
    {
     "data": {
      "text/plain": [
       "12"
      ]
     },
     "execution_count": 39,
     "metadata": {},
     "output_type": "execute_result"
    }
   ],
   "source": [
    "soma3 = numero_de_filhos + dia_da_semana\n",
    "soma3"
   ]
  },
  {
   "cell_type": "code",
   "execution_count": 49,
   "id": "3daefde1",
   "metadata": {
    "ExecuteTime": {
     "end_time": "2021-10-27T01:02:38.160960Z",
     "start_time": "2021-10-27T01:02:38.156917Z"
    }
   },
   "outputs": [
    {
     "data": {
      "text/plain": [
       "int"
      ]
     },
     "execution_count": 49,
     "metadata": {},
     "output_type": "execute_result"
    }
   ],
   "source": [
    "type(soma3)"
   ]
  },
  {
   "cell_type": "code",
   "execution_count": 41,
   "id": "5f48f9d5",
   "metadata": {
    "ExecuteTime": {
     "end_time": "2021-10-27T00:59:08.616028Z",
     "start_time": "2021-10-27T00:59:08.613173Z"
    }
   },
   "outputs": [
    {
     "data": {
      "text/plain": [
       "'NeidinhaPaulista'"
      ]
     },
     "execution_count": 41,
     "metadata": {},
     "output_type": "execute_result"
    }
   ],
   "source": [
    "nome + cidade"
   ]
  },
  {
   "cell_type": "code",
   "execution_count": 42,
   "id": "7125a589",
   "metadata": {
    "ExecuteTime": {
     "end_time": "2021-10-27T00:59:37.700611Z",
     "start_time": "2021-10-27T00:59:37.694496Z"
    }
   },
   "outputs": [
    {
     "data": {
      "text/plain": [
       "'Neidinha Paulista'"
      ]
     },
     "execution_count": 42,
     "metadata": {},
     "output_type": "execute_result"
    }
   ],
   "source": [
    "nome + \" \" + cidade"
   ]
  },
  {
   "cell_type": "code",
   "execution_count": 44,
   "id": "dc87e306",
   "metadata": {
    "ExecuteTime": {
     "end_time": "2021-10-27T01:00:37.007436Z",
     "start_time": "2021-10-27T01:00:37.004454Z"
    }
   },
   "outputs": [
    {
     "data": {
      "text/plain": [
       "8"
      ]
     },
     "execution_count": 44,
     "metadata": {},
     "output_type": "execute_result"
    }
   ],
   "source": [
    "soma4 = dia_da_semana + z\n",
    "soma4"
   ]
  },
  {
   "cell_type": "code",
   "execution_count": 45,
   "id": "7aaf4ad7",
   "metadata": {
    "ExecuteTime": {
     "end_time": "2021-10-27T01:00:51.058512Z",
     "start_time": "2021-10-27T01:00:51.055488Z"
    }
   },
   "outputs": [
    {
     "data": {
      "text/plain": [
       "int"
      ]
     },
     "execution_count": 45,
     "metadata": {},
     "output_type": "execute_result"
    }
   ],
   "source": [
    "type(soma4)"
   ]
  },
  {
   "cell_type": "code",
   "execution_count": 50,
   "id": "0317b8cd",
   "metadata": {
    "ExecuteTime": {
     "end_time": "2021-10-27T01:08:59.995809Z",
     "start_time": "2021-10-27T01:08:59.897569Z"
    }
   },
   "outputs": [
    {
     "ename": "TypeError",
     "evalue": "can only concatenate str (not \"float\") to str",
     "output_type": "error",
     "traceback": [
      "\u001b[0;31m---------------------------------------------------------------------------\u001b[0m",
      "\u001b[0;31mTypeError\u001b[0m                                 Traceback (most recent call last)",
      "\u001b[0;32m/var/folders/8c/4qj1vrpn4zv0v54qptvr3fjr0000gn/T/ipykernel_82078/3143129718.py\u001b[0m in \u001b[0;36m<module>\u001b[0;34m\u001b[0m\n\u001b[0;32m----> 1\u001b[0;31m \u001b[0mcidade\u001b[0m \u001b[0;34m+\u001b[0m \u001b[0mimc\u001b[0m\u001b[0;34m\u001b[0m\u001b[0;34m\u001b[0m\u001b[0m\n\u001b[0m",
      "\u001b[0;31mTypeError\u001b[0m: can only concatenate str (not \"float\") to str"
     ]
    }
   ],
   "source": [
    "cidade + imc"
   ]
  },
  {
   "cell_type": "code",
   "execution_count": 52,
   "id": "1e9e1c42",
   "metadata": {
    "ExecuteTime": {
     "end_time": "2021-10-27T01:09:36.294060Z",
     "start_time": "2021-10-27T01:09:36.291143Z"
    }
   },
   "outputs": [
    {
     "data": {
      "text/plain": [
       "'Paulista 30.47'"
      ]
     },
     "execution_count": 52,
     "metadata": {},
     "output_type": "execute_result"
    }
   ],
   "source": [
    "cidade + \" \" + str(imc)"
   ]
  },
  {
   "cell_type": "code",
   "execution_count": 53,
   "id": "999debf2",
   "metadata": {
    "ExecuteTime": {
     "end_time": "2021-10-27T01:10:22.171124Z",
     "start_time": "2021-10-27T01:10:22.168339Z"
    }
   },
   "outputs": [
    {
     "data": {
      "text/plain": [
       "30.47"
      ]
     },
     "execution_count": 53,
     "metadata": {},
     "output_type": "execute_result"
    }
   ],
   "source": [
    "imc"
   ]
  },
  {
   "cell_type": "code",
   "execution_count": 54,
   "id": "bcecba91",
   "metadata": {
    "ExecuteTime": {
     "end_time": "2021-10-27T01:10:26.671320Z",
     "start_time": "2021-10-27T01:10:26.668208Z"
    }
   },
   "outputs": [
    {
     "data": {
      "text/plain": [
       "float"
      ]
     },
     "execution_count": 54,
     "metadata": {},
     "output_type": "execute_result"
    }
   ],
   "source": [
    "type(imc)"
   ]
  },
  {
   "cell_type": "code",
   "execution_count": 55,
   "id": "69b1aaed",
   "metadata": {
    "ExecuteTime": {
     "end_time": "2021-10-27T01:10:39.237833Z",
     "start_time": "2021-10-27T01:10:39.234943Z"
    }
   },
   "outputs": [
    {
     "data": {
      "text/plain": [
       "108.47"
      ]
     },
     "execution_count": 55,
     "metadata": {},
     "output_type": "execute_result"
    }
   ],
   "source": [
    "imc + peso"
   ]
  },
  {
   "cell_type": "code",
   "execution_count": 56,
   "id": "583d078d",
   "metadata": {
    "ExecuteTime": {
     "end_time": "2021-10-27T01:11:00.364361Z",
     "start_time": "2021-10-27T01:11:00.362327Z"
    }
   },
   "outputs": [],
   "source": [
    " imc = str(imc)"
   ]
  },
  {
   "cell_type": "code",
   "execution_count": 57,
   "id": "5edfc612",
   "metadata": {
    "ExecuteTime": {
     "end_time": "2021-10-27T01:11:04.056021Z",
     "start_time": "2021-10-27T01:11:04.051746Z"
    }
   },
   "outputs": [
    {
     "ename": "TypeError",
     "evalue": "can only concatenate str (not \"int\") to str",
     "output_type": "error",
     "traceback": [
      "\u001b[0;31m---------------------------------------------------------------------------\u001b[0m",
      "\u001b[0;31mTypeError\u001b[0m                                 Traceback (most recent call last)",
      "\u001b[0;32m/var/folders/8c/4qj1vrpn4zv0v54qptvr3fjr0000gn/T/ipykernel_82078/3019773405.py\u001b[0m in \u001b[0;36m<module>\u001b[0;34m\u001b[0m\n\u001b[0;32m----> 1\u001b[0;31m \u001b[0mimc\u001b[0m \u001b[0;34m+\u001b[0m \u001b[0mpeso\u001b[0m\u001b[0;34m\u001b[0m\u001b[0;34m\u001b[0m\u001b[0m\n\u001b[0m",
      "\u001b[0;31mTypeError\u001b[0m: can only concatenate str (not \"int\") to str"
     ]
    }
   ],
   "source": [
    "imc + peso"
   ]
  },
  {
   "cell_type": "code",
   "execution_count": 58,
   "id": "318f847b",
   "metadata": {
    "ExecuteTime": {
     "end_time": "2021-10-27T01:11:18.194713Z",
     "start_time": "2021-10-27T01:11:18.192674Z"
    }
   },
   "outputs": [],
   "source": [
    "imc = float(imc)"
   ]
  },
  {
   "cell_type": "code",
   "execution_count": 59,
   "id": "76f14571",
   "metadata": {
    "ExecuteTime": {
     "end_time": "2021-10-27T01:11:21.707282Z",
     "start_time": "2021-10-27T01:11:21.704312Z"
    }
   },
   "outputs": [
    {
     "data": {
      "text/plain": [
       "108.47"
      ]
     },
     "execution_count": 59,
     "metadata": {},
     "output_type": "execute_result"
    }
   ],
   "source": [
    "imc + peso"
   ]
  },
  {
   "cell_type": "code",
   "execution_count": 60,
   "id": "e87b9ede",
   "metadata": {
    "ExecuteTime": {
     "end_time": "2021-10-27T01:11:53.061564Z",
     "start_time": "2021-10-27T01:11:53.056679Z"
    }
   },
   "outputs": [
    {
     "ename": "ValueError",
     "evalue": "could not convert string to float: 'banana'",
     "output_type": "error",
     "traceback": [
      "\u001b[0;31m---------------------------------------------------------------------------\u001b[0m",
      "\u001b[0;31mValueError\u001b[0m                                Traceback (most recent call last)",
      "\u001b[0;32m/var/folders/8c/4qj1vrpn4zv0v54qptvr3fjr0000gn/T/ipykernel_82078/29229720.py\u001b[0m in \u001b[0;36m<module>\u001b[0;34m\u001b[0m\n\u001b[0;32m----> 1\u001b[0;31m \u001b[0mfloat\u001b[0m\u001b[0;34m(\u001b[0m\u001b[0;34m\"banana\"\u001b[0m\u001b[0;34m)\u001b[0m\u001b[0;34m\u001b[0m\u001b[0;34m\u001b[0m\u001b[0m\n\u001b[0m",
      "\u001b[0;31mValueError\u001b[0m: could not convert string to float: 'banana'"
     ]
    }
   ],
   "source": [
    "float(\"banana\")"
   ]
  },
  {
   "cell_type": "markdown",
   "id": "bbf5b18c",
   "metadata": {},
   "source": [
    "# Exercício"
   ]
  },
  {
   "cell_type": "code",
   "execution_count": 1,
   "id": "dbba283d",
   "metadata": {
    "ExecuteTime": {
     "end_time": "2021-11-02T23:14:38.186352Z",
     "start_time": "2021-11-02T23:14:38.177632Z"
    }
   },
   "outputs": [
    {
     "name": "stdout",
     "output_type": "stream",
     "text": [
      "1500\n"
     ]
    }
   ],
   "source": [
    "# Criação das variáveis\n",
    "economias = 1500\n",
    "print(economias)"
   ]
  },
  {
   "cell_type": "code",
   "execution_count": 2,
   "id": "9fb409f2",
   "metadata": {
    "ExecuteTime": {
     "end_time": "2021-11-02T23:14:47.227139Z",
     "start_time": "2021-11-02T23:14:47.218989Z"
    }
   },
   "outputs": [
    {
     "data": {
      "text/plain": [
       "int"
      ]
     },
     "execution_count": 2,
     "metadata": {},
     "output_type": "execute_result"
    }
   ],
   "source": [
    "type(economias)"
   ]
  },
  {
   "cell_type": "code",
   "execution_count": 3,
   "id": "4ed90a29",
   "metadata": {
    "ExecuteTime": {
     "end_time": "2021-11-02T23:16:46.368873Z",
     "start_time": "2021-11-02T23:16:46.366438Z"
    }
   },
   "outputs": [],
   "source": [
    "c = economias\n",
    "i = 0.03\n",
    "n = 7"
   ]
  },
  {
   "cell_type": "code",
   "execution_count": 6,
   "id": "569c3193",
   "metadata": {
    "ExecuteTime": {
     "end_time": "2021-11-02T23:17:08.341882Z",
     "start_time": "2021-11-02T23:17:08.339320Z"
    }
   },
   "outputs": [],
   "source": [
    "montante = round(c * (1 + i)**n, 2)"
   ]
  },
  {
   "cell_type": "code",
   "execution_count": 7,
   "id": "b2d2f94a",
   "metadata": {
    "ExecuteTime": {
     "end_time": "2021-11-02T23:17:08.677710Z",
     "start_time": "2021-11-02T23:17:08.675215Z"
    }
   },
   "outputs": [
    {
     "name": "stdout",
     "output_type": "stream",
     "text": [
      "1844.81\n"
     ]
    }
   ],
   "source": [
    "print(montante)"
   ]
  },
  {
   "cell_type": "code",
   "execution_count": 8,
   "id": "b413bba5",
   "metadata": {
    "ExecuteTime": {
     "end_time": "2021-11-02T23:19:30.382080Z",
     "start_time": "2021-11-02T23:19:30.379554Z"
    }
   },
   "outputs": [
    {
     "name": "stdout",
     "output_type": "stream",
     "text": [
      "Eu comecei com R$1500 e agora eu tenho R$1844.81. Maravilha!!!!\n"
     ]
    }
   ],
   "source": [
    "print(\"Eu comecei com R$\" + str(economias) + \" e agora eu tenho R$\" + str(montante) + \". Maravilha!!!!\")"
   ]
  },
  {
   "cell_type": "code",
   "execution_count": 11,
   "id": "85abfe93",
   "metadata": {
    "ExecuteTime": {
     "end_time": "2021-11-02T23:27:25.318772Z",
     "start_time": "2021-11-02T23:27:25.316260Z"
    }
   },
   "outputs": [
    {
     "name": "stdout",
     "output_type": "stream",
     "text": [
      "344.81\n"
     ]
    }
   ],
   "source": [
    "juros = round(montante - economias, 2) \n",
    "print(juros)"
   ]
  },
  {
   "cell_type": "code",
   "execution_count": 14,
   "id": "37111b79",
   "metadata": {
    "ExecuteTime": {
     "end_time": "2021-11-02T23:28:55.893001Z",
     "start_time": "2021-11-02T23:28:55.890447Z"
    }
   },
   "outputs": [
    {
     "name": "stdout",
     "output_type": "stream",
     "text": [
      "Eu comecei com R$ 1500 e agora eu tenho R$ 1844.81. O juros gerado foi de R$  344.81\n"
     ]
    }
   ],
   "source": [
    "print(\"Eu comecei com R$ \" + str(economias) + \" e agora eu tenho R$ \" + \n",
    "      str(montante) + \n",
    "      \". O juros gerado foi de R$ \", str(juros))"
   ]
  }
 ],
 "metadata": {
  "kernelspec": {
   "display_name": "Python 3 (ipykernel)",
   "language": "python",
   "name": "python3"
  },
  "language_info": {
   "codemirror_mode": {
    "name": "ipython",
    "version": 3
   },
   "file_extension": ".py",
   "mimetype": "text/x-python",
   "name": "python",
   "nbconvert_exporter": "python",
   "pygments_lexer": "ipython3",
   "version": "3.9.7"
  }
 },
 "nbformat": 4,
 "nbformat_minor": 5
}
